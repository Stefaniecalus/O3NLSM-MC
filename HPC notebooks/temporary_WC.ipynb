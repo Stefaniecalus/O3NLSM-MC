{
 "cells": [
  {
   "cell_type": "code",
   "execution_count": null,
   "id": "19a6e529",
   "metadata": {},
   "outputs": [],
   "source": [
    "#Go to the right directory \n",
    "from func_flips import *"
   ]
  },
  {
   "cell_type": "code",
   "execution_count": null,
   "id": "5afe2c88",
   "metadata": {},
   "outputs": [],
   "source": [
    "#Get all possible files\n",
    "Ls = [6, 8, 10, 12, 14, 16]\n",
    "Js = np.linspace(0.0, 1.4, 15)\n",
    "magnetizations = np.zeros((15, 6))\n",
    "ntotal = np.zeros((15, 6))"
   ]
  },
  {
   "cell_type": "code",
   "execution_count": null,
   "id": "8c921f4a",
   "metadata": {},
   "outputs": [],
   "source": [
    "for il, L in enumerate(Ls):\n",
    "    for ij, J in enumerate(Js):\n",
    "       file = 'WCL{L}_J{J}.txt'.format(L=L, J=J) \n",
    "       new_lattice, new_latcoords, new_spins, new_n = get_from_file(file)\n",
    "       magnetizations[il, ij] = magnetization((new_lattice, new_latcoords, new_spins))\n",
    "       ntotal[il, ij] = new_spins"
   ]
  },
  {
   "cell_type": "code",
   "execution_count": null,
   "id": "ded66221",
   "metadata": {},
   "outputs": [],
   "source": [
    "fig, ax = plt.subplots(2, 3, figsize=(8, 5))\n",
    "for i,j in product(range(2),range(3)):\n",
    "    row = i*3 + j\n",
    "    ax[i,j].plot(Js, magnetizations[row, :], marker='o', color='xkcd:ugly blue')\n",
    "    ax[i,j].set_ylabel(\"Magnetization per spin\")\n",
    "    ax[i,j].set_xlalbel(\"Exchange interaction J\")\n",
    "\n",
    "plt.subplots_adjust(wspace=0.6, bottom=0.2)\n",
    "fig.suptitle('Wolffcluster intermediate results')\n",
    "#plt.savefig(f'/data/gent/443/vsc44358/wolffcluster/Intermediate_results_WC.png')\n",
    "plt.show()"
   ]
  }
 ],
 "metadata": {
  "kernelspec": {
   "display_name": "Python 3",
   "language": "python",
   "name": "python3"
  },
  "language_info": {
   "codemirror_mode": {
    "name": "ipython",
    "version": 3
   },
   "file_extension": ".py",
   "mimetype": "text/x-python",
   "name": "python",
   "nbconvert_exporter": "python",
   "pygments_lexer": "ipython3",
   "version": "3.9.6"
  }
 },
 "nbformat": 4,
 "nbformat_minor": 5
}
